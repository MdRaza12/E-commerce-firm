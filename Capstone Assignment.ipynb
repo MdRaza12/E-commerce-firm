{
 "cells": [
  {
   "cell_type": "markdown",
   "metadata": {},
   "source": [
    "## Capstone Project - E-commerce firm"
   ]
  },
  {
   "cell_type": "markdown",
   "metadata": {},
   "source": [
    "In the E-comm firm, an CEO wants to visualized the trend of orders, sales and other parameters through which he can conclude\n",
    "the important aspects."
   ]
  },
  {
   "cell_type": "markdown",
   "metadata": {},
   "source": [
    "### Importing Libraries"
   ]
  },
  {
   "cell_type": "code",
   "execution_count": 82,
   "metadata": {},
   "outputs": [],
   "source": [
    "import numpy as np\n",
    "import pandas as pd\n",
    "import matplotlib.pyplot as plt\n",
    "%matplotlib inline\n",
    "import seaborn as sns\n",
    "import warnings\n",
    "warnings.filterwarnings('ignore')\n"
   ]
  },
  {
   "cell_type": "markdown",
   "metadata": {},
   "source": [
    "### Reading the Datasets"
   ]
  },
  {
   "cell_type": "code",
   "execution_count": 83,
   "metadata": {},
   "outputs": [],
   "source": [
    "df_customers = pd.read_csv('customers.csv')\n",
    "df_order_items = pd.read_csv('order_items.csv')\n",
    "df_orders = pd.read_csv('orders.csv')\n",
    "df_payments = pd.read_csv('payments.csv')\n",
    "df_products = pd.read_csv('products.csv')\n",
    "df_sellers = pd.read_csv('sellers.csv')\n",
    "df_user_feedback = pd.read_csv('user_feedback.csv')\n",
    "\n"
   ]
  },
  {
   "cell_type": "markdown",
   "metadata": {},
   "source": [
    "### Merging the Datasets"
   ]
  },
  {
   "cell_type": "code",
   "execution_count": 84,
   "metadata": {},
   "outputs": [
    {
     "name": "stdout",
     "output_type": "stream",
     "text": [
      "(113529, 25)\n"
     ]
    }
   ],
   "source": [
    "df_all = df_orders.merge(df_orders, on='order_id', how='left')\n",
    "\n",
    "df_all = df_all.merge(df_order_items, on='order_id', how='outer', validate='m:m')\n",
    "\n",
    "df_all = df_all.merge(df_products, on='product_id', how='outer')\n",
    "\n",
    "df_all = df_all.merge(df_sellers, on='seller_id', how='outer')\n",
    "\n",
    "print(df_all.shape)"
   ]
  },
  {
   "cell_type": "code",
   "execution_count": 85,
   "metadata": {},
   "outputs": [
    {
     "data": {
      "text/html": [
       "<div>\n",
       "<style scoped>\n",
       "    .dataframe tbody tr th:only-of-type {\n",
       "        vertical-align: middle;\n",
       "    }\n",
       "\n",
       "    .dataframe tbody tr th {\n",
       "        vertical-align: top;\n",
       "    }\n",
       "\n",
       "    .dataframe thead th {\n",
       "        text-align: right;\n",
       "    }\n",
       "</style>\n",
       "<table border=\"1\" class=\"dataframe\">\n",
       "  <thead>\n",
       "    <tr style=\"text-align: right;\">\n",
       "      <th></th>\n",
       "      <th>customer_id</th>\n",
       "      <th>customer_unique_id</th>\n",
       "      <th>customer_state</th>\n",
       "    </tr>\n",
       "  </thead>\n",
       "  <tbody>\n",
       "    <tr>\n",
       "      <td>0</td>\n",
       "      <td>06b8999e2f</td>\n",
       "      <td>861eff4711</td>\n",
       "      <td>SP</td>\n",
       "    </tr>\n",
       "    <tr>\n",
       "      <td>1</td>\n",
       "      <td>18955e83d3</td>\n",
       "      <td>290c77bc52</td>\n",
       "      <td>SP</td>\n",
       "    </tr>\n",
       "    <tr>\n",
       "      <td>2</td>\n",
       "      <td>4e7b3e0028</td>\n",
       "      <td>060e732b5b</td>\n",
       "      <td>SP</td>\n",
       "    </tr>\n",
       "  </tbody>\n",
       "</table>\n",
       "</div>"
      ],
      "text/plain": [
       "  customer_id customer_unique_id customer_state\n",
       "0  06b8999e2f         861eff4711             SP\n",
       "1  18955e83d3         290c77bc52             SP\n",
       "2  4e7b3e0028         060e732b5b             SP"
      ]
     },
     "execution_count": 85,
     "metadata": {},
     "output_type": "execute_result"
    }
   ],
   "source": [
    "df_customers.head(3)"
   ]
  },
  {
   "cell_type": "markdown",
   "metadata": {},
   "source": [
    "### Analysis on the Customers data"
   ]
  },
  {
   "cell_type": "code",
   "execution_count": 86,
   "metadata": {},
   "outputs": [
    {
     "data": {
      "text/plain": [
       "(99441, 3)"
      ]
     },
     "execution_count": 86,
     "metadata": {},
     "output_type": "execute_result"
    }
   ],
   "source": [
    "# Finding the rows & Columns\n",
    "\n",
    "df_customers.shape"
   ]
  },
  {
   "cell_type": "code",
   "execution_count": 87,
   "metadata": {},
   "outputs": [
    {
     "data": {
      "text/plain": [
       "customer_id           0\n",
       "customer_unique_id    0\n",
       "customer_state        0\n",
       "dtype: int64"
      ]
     },
     "execution_count": 87,
     "metadata": {},
     "output_type": "execute_result"
    }
   ],
   "source": [
    "#Checking null values\n",
    "\n",
    "df_customers.isnull().sum()"
   ]
  },
  {
   "cell_type": "code",
   "execution_count": 88,
   "metadata": {},
   "outputs": [
    {
     "data": {
      "text/plain": [
       "27"
      ]
     },
     "execution_count": 88,
     "metadata": {},
     "output_type": "execute_result"
    }
   ],
   "source": [
    "# identifying unique records\n",
    "\n",
    "state = df_customers[\"customer_state\"].nunique()\n",
    "state"
   ]
  },
  {
   "cell_type": "markdown",
   "metadata": {},
   "source": [
    "#### There are total 27 states are present"
   ]
  },
  {
   "cell_type": "code",
   "execution_count": 89,
   "metadata": {},
   "outputs": [
    {
     "data": {
      "text/plain": [
       "customer_state\n",
       "SP    41746\n",
       "RJ    12852\n",
       "MG    11635\n",
       "RS     5466\n",
       "PR     5045\n",
       "SC     3637\n",
       "BA     3380\n",
       "DF     2140\n",
       "ES     2033\n",
       "GO     2020\n",
       "PE     1652\n",
       "CE     1336\n",
       "PA      975\n",
       "MT      907\n",
       "MA      747\n",
       "MS      715\n",
       "PB      536\n",
       "PI      495\n",
       "RN      485\n",
       "AL      413\n",
       "SE      350\n",
       "TO      280\n",
       "RO      253\n",
       "AM      148\n",
       "AC       81\n",
       "AP       68\n",
       "RR       46\n",
       "Name: customer_id, dtype: int64"
      ]
     },
     "execution_count": 89,
     "metadata": {},
     "output_type": "execute_result"
    }
   ],
   "source": [
    "# Grouping the state with customer_id\n",
    "\n",
    "c = df_customers.groupby('customer_state')['customer_id'].nunique().sort_values(ascending=False)\n",
    "c"
   ]
  },
  {
   "cell_type": "code",
   "execution_count": 90,
   "metadata": {
    "scrolled": true
   },
   "outputs": [
    {
     "data": {
      "image/png": "[encoded data removed]",
      "text/plain": [
       "<Figure size 1008x360 with 1 Axes>"
      ]
     },
     "metadata": {
      "needs_background": "light"
     },
     "output_type": "display_data"
    }
   ],
   "source": [
    "# Plotting\n",
    "\n",
    "plt.figure(figsize=(14,5))\n",
    "c.plot(kind=\"bar\")\n",
    "plt.show()"
   ]
  },
  {
   "cell_type": "markdown",
   "metadata": {},
   "source": [
    "#### Maximum numbers of the customers are from <u>SP</u> State"
   ]
  },
  {
   "cell_type": "markdown",
   "metadata": {},
   "source": [
    "### <u>Orders Analysis </u>"
   ]
  },
  {
   "cell_type": "code",
   "execution_count": 91,
   "metadata": {},
   "outputs": [
    {
     "data": {
      "text/html": [
       "<div>\n",
       "<style scoped>\n",
       "    .dataframe tbody tr th:only-of-type {\n",
       "        vertical-align: middle;\n",
       "    }\n",
       "\n",
       "    .dataframe tbody tr th {\n",
       "        vertical-align: top;\n",
       "    }\n",
       "\n",
       "    .dataframe thead th {\n",
       "        text-align: right;\n",
       "    }\n",
       "</style>\n",
       "<table border=\"1\" class=\"dataframe\">\n",
       "  <thead>\n",
       "    <tr style=\"text-align: right;\">\n",
       "      <th></th>\n",
       "      <th>order_id</th>\n",
       "      <th>customer_id</th>\n",
       "      <th>order_status</th>\n",
       "      <th>order_purchase_timestamp</th>\n",
       "      <th>order_approved_at</th>\n",
       "      <th>order_delivered_to_carrier_date</th>\n",
       "      <th>order_delivered_to_customer_date</th>\n",
       "      <th>order_estimated_delivery_date</th>\n",
       "    </tr>\n",
       "  </thead>\n",
       "  <tbody>\n",
       "    <tr>\n",
       "      <td>0</td>\n",
       "      <td>e481f51cbd</td>\n",
       "      <td>9ef432eb62</td>\n",
       "      <td>delivered</td>\n",
       "      <td>2017-10-02 10:56:33</td>\n",
       "      <td>2017-10-02 11:07:15</td>\n",
       "      <td>2017-10-04 19:55:00</td>\n",
       "      <td>2017-10-10 21:25:13</td>\n",
       "      <td>2017-10-18 00:00:00</td>\n",
       "    </tr>\n",
       "    <tr>\n",
       "      <td>1</td>\n",
       "      <td>53cdb2fc8b</td>\n",
       "      <td>b0830fb474</td>\n",
       "      <td>delivered</td>\n",
       "      <td>2018-07-24 20:41:37</td>\n",
       "      <td>2018-07-26 03:24:27</td>\n",
       "      <td>2018-07-26 14:31:00</td>\n",
       "      <td>2018-08-07 15:27:45</td>\n",
       "      <td>2018-08-13 00:00:00</td>\n",
       "    </tr>\n",
       "    <tr>\n",
       "      <td>2</td>\n",
       "      <td>47770eb910</td>\n",
       "      <td>41ce2a54c0</td>\n",
       "      <td>delivered</td>\n",
       "      <td>2018-08-08 08:38:49</td>\n",
       "      <td>2018-08-08 08:55:23</td>\n",
       "      <td>2018-08-08 13:50:00</td>\n",
       "      <td>2018-08-17 18:06:29</td>\n",
       "      <td>2018-09-04 00:00:00</td>\n",
       "    </tr>\n",
       "    <tr>\n",
       "      <td>3</td>\n",
       "      <td>949d5b44db</td>\n",
       "      <td>f88197465e</td>\n",
       "      <td>delivered</td>\n",
       "      <td>2017-11-18 19:28:06</td>\n",
       "      <td>2017-11-18 19:45:59</td>\n",
       "      <td>2017-11-22 13:39:59</td>\n",
       "      <td>2017-12-02 00:28:42</td>\n",
       "      <td>2017-12-15 00:00:00</td>\n",
       "    </tr>\n",
       "    <tr>\n",
       "      <td>4</td>\n",
       "      <td>ad21c59c08</td>\n",
       "      <td>8ab97904e6</td>\n",
       "      <td>delivered</td>\n",
       "      <td>2018-02-13 21:18:39</td>\n",
       "      <td>2018-02-13 22:20:29</td>\n",
       "      <td>2018-02-14 19:46:34</td>\n",
       "      <td>2018-02-16 18:17:02</td>\n",
       "      <td>2018-02-26 00:00:00</td>\n",
       "    </tr>\n",
       "  </tbody>\n",
       "</table>\n",
       "</div>"
      ],
      "text/plain": [
       "     order_id customer_id order_status order_purchase_timestamp  \\\n",
       "0  e481f51cbd  9ef432eb62    delivered      2017-10-02 10:56:33   \n",
       "1  53cdb2fc8b  b0830fb474    delivered      2018-07-24 20:41:37   \n",
       "2  47770eb910  41ce2a54c0    delivered      2018-08-08 08:38:49   \n",
       "3  949d5b44db  f88197465e    delivered      2017-11-18 19:28:06   \n",
       "4  ad21c59c08  8ab97904e6    delivered      2018-02-13 21:18:39   \n",
       "\n",
       "     order_approved_at order_delivered_to_carrier_date  \\\n",
       "0  2017-10-02 11:07:15             2017-10-04 19:55:00   \n",
       "1  2018-07-26 03:24:27             2018-07-26 14:31:00   \n",
       "2  2018-08-08 08:55:23             2018-08-08 13:50:00   \n",
       "3  2017-11-18 19:45:59             2017-11-22 13:39:59   \n",
       "4  2018-02-13 22:20:29             2018-02-14 19:46:34   \n",
       "\n",
       "  order_delivered_to_customer_date order_estimated_delivery_date  \n",
       "0              2017-10-10 21:25:13           2017-10-18 00:00:00  \n",
       "1              2018-08-07 15:27:45           2018-08-13 00:00:00  \n",
       "2              2018-08-17 18:06:29           2018-09-04 00:00:00  \n",
       "3              2017-12-02 00:28:42           2017-12-15 00:00:00  \n",
       "4              2018-02-16 18:17:02           2018-02-26 00:00:00  "
      ]
     },
     "execution_count": 91,
     "metadata": {},
     "output_type": "execute_result"
    }
   ],
   "source": [
    "df_orders.head(5)"
   ]
  },
  {
   "cell_type": "code",
   "execution_count": 92,
   "metadata": {},
   "outputs": [
    {
     "data": {
      "text/plain": [
       "(99441, 8)"
      ]
     },
     "execution_count": 92,
     "metadata": {},
     "output_type": "execute_result"
    }
   ],
   "source": [
    "# Finding the rows & Columns\n",
    "\n",
    "df_orders.shape"
   ]
  },
  {
   "cell_type": "markdown",
   "metadata": {},
   "source": [
    "#### Total no.of orders are 99441"
   ]
  },
  {
   "cell_type": "code",
   "execution_count": 93,
   "metadata": {},
   "outputs": [
    {
     "data": {
      "text/plain": [
       "order_status\n",
       "delivered      96478\n",
       "shipped         1107\n",
       "canceled         625\n",
       "unavailable      609\n",
       "invoiced         314\n",
       "processing       301\n",
       "created            5\n",
       "approved           2\n",
       "Name: order_id, dtype: int64"
      ]
     },
     "execution_count": 93,
     "metadata": {},
     "output_type": "execute_result"
    }
   ],
   "source": [
    "# Checking the status of an orders\n",
    "\n",
    "df_order_status = df_orders.groupby('order_status')['order_id'].nunique().sort_values(ascending = False)\n",
    "df_order_status\n",
    "\n"
   ]
  },
  {
   "cell_type": "markdown",
   "metadata": {},
   "source": [
    "#### Mostly orders are deliverd to the customers."
   ]
  },
  {
   "cell_type": "code",
   "execution_count": 94,
   "metadata": {},
   "outputs": [
    {
     "data": {
      "image/png": "[encoded data removed]",
      "text/plain": [
       "<Figure size 864x360 with 1 Axes>"
      ]
     },
     "metadata": {
      "needs_background": "light"
     },
     "output_type": "display_data"
    }
   ],
   "source": [
    "# Ploting the orderstatus graph\n",
    "\n",
    "plt.figure(figsize=(12,5))\n",
    "df_order_status.plot(kind=\"bar\")\n",
    "plt.show()"
   ]
  },
  {
   "cell_type": "markdown",
   "metadata": {},
   "source": [
    "#### Mostly orders are deliverd to the customers."
   ]
  },
  {
   "cell_type": "code",
   "execution_count": 95,
   "metadata": {},
   "outputs": [
    {
     "data": {
      "text/html": [
       "<div>\n",
       "<style scoped>\n",
       "    .dataframe tbody tr th:only-of-type {\n",
       "        vertical-align: middle;\n",
       "    }\n",
       "\n",
       "    .dataframe tbody tr th {\n",
       "        vertical-align: top;\n",
       "    }\n",
       "\n",
       "    .dataframe thead th {\n",
       "        text-align: right;\n",
       "    }\n",
       "</style>\n",
       "<table border=\"1\" class=\"dataframe\">\n",
       "  <thead>\n",
       "    <tr style=\"text-align: right;\">\n",
       "      <th></th>\n",
       "      <th>order_id</th>\n",
       "      <th>customer_id</th>\n",
       "      <th>order_status</th>\n",
       "      <th>order_purchase_timestamp</th>\n",
       "      <th>order_approved_at</th>\n",
       "      <th>order_delivered_to_carrier_date</th>\n",
       "      <th>order_delivered_to_customer_date</th>\n",
       "      <th>order_estimated_delivery_date</th>\n",
       "    </tr>\n",
       "  </thead>\n",
       "  <tbody>\n",
       "    <tr>\n",
       "      <td>0</td>\n",
       "      <td>e481f51cbd</td>\n",
       "      <td>9ef432eb62</td>\n",
       "      <td>delivered</td>\n",
       "      <td>2017-10-02 10:56:33</td>\n",
       "      <td>2017-10-02 11:07:15</td>\n",
       "      <td>2017-10-04 19:55:00</td>\n",
       "      <td>2017-10-10 21:25:13</td>\n",
       "      <td>2017-10-18 00:00:00</td>\n",
       "    </tr>\n",
       "    <tr>\n",
       "      <td>1</td>\n",
       "      <td>53cdb2fc8b</td>\n",
       "      <td>b0830fb474</td>\n",
       "      <td>delivered</td>\n",
       "      <td>2018-07-24 20:41:37</td>\n",
       "      <td>2018-07-26 03:24:27</td>\n",
       "      <td>2018-07-26 14:31:00</td>\n",
       "      <td>2018-08-07 15:27:45</td>\n",
       "      <td>2018-08-13 00:00:00</td>\n",
       "    </tr>\n",
       "    <tr>\n",
       "      <td>2</td>\n",
       "      <td>47770eb910</td>\n",
       "      <td>41ce2a54c0</td>\n",
       "      <td>delivered</td>\n",
       "      <td>2018-08-08 08:38:49</td>\n",
       "      <td>2018-08-08 08:55:23</td>\n",
       "      <td>2018-08-08 13:50:00</td>\n",
       "      <td>2018-08-17 18:06:29</td>\n",
       "      <td>2018-09-04 00:00:00</td>\n",
       "    </tr>\n",
       "  </tbody>\n",
       "</table>\n",
       "</div>"
      ],
      "text/plain": [
       "     order_id customer_id order_status order_purchase_timestamp  \\\n",
       "0  e481f51cbd  9ef432eb62    delivered      2017-10-02 10:56:33   \n",
       "1  53cdb2fc8b  b0830fb474    delivered      2018-07-24 20:41:37   \n",
       "2  47770eb910  41ce2a54c0    delivered      2018-08-08 08:38:49   \n",
       "\n",
       "     order_approved_at order_delivered_to_carrier_date  \\\n",
       "0  2017-10-02 11:07:15             2017-10-04 19:55:00   \n",
       "1  2018-07-26 03:24:27             2018-07-26 14:31:00   \n",
       "2  2018-08-08 08:55:23             2018-08-08 13:50:00   \n",
       "\n",
       "  order_delivered_to_customer_date order_estimated_delivery_date  \n",
       "0              2017-10-10 21:25:13           2017-10-18 00:00:00  \n",
       "1              2018-08-07 15:27:45           2018-08-13 00:00:00  \n",
       "2              2018-08-17 18:06:29           2018-09-04 00:00:00  "
      ]
     },
     "execution_count": 95,
     "metadata": {},
     "output_type": "execute_result"
    }
   ],
   "source": [
    "df_orders.head(3)"
   ]
  },
  {
   "cell_type": "code",
   "execution_count": 96,
   "metadata": {},
   "outputs": [],
   "source": [
    " #Changing the data type for date columns\n",
    "    \n",
    "timestamp_cols = ['order_purchase_timestamp', 'order_approved_at', 'order_delivered_to_carrier_date', \n",
    "                  'order_estimated_delivery_date']\n",
    "for col in timestamp_cols:\n",
    "    df_orders[col] = pd.to_datetime(df_orders[col])\n",
    "    \n",
    "# Extracting attributes for purchase date - Year and Month\n",
    "\n",
    "df_orders['order_purchase_year'] = df_orders['order_purchase_timestamp'].apply(lambda x: x.year)\n",
    "df_orders['order_purchase_month'] = df_orders['order_purchase_timestamp'].apply(lambda x: x.month)\n",
    "df_orders['order_purchase_month_name'] = df_orders['order_purchase_timestamp'].apply(lambda x: x.strftime('%b'))\n",
    "df_orders['order_purchase_year_month'] = df_orders['order_purchase_timestamp'].apply(lambda x: x.strftime('%Y%m'))\n",
    "df_orders['order_purchase_date'] = df_orders['order_purchase_timestamp'].apply(lambda x: x.strftime('%Y%m%d'))\n",
    "\n"
   ]
  },
  {
   "cell_type": "code",
   "execution_count": 97,
   "metadata": {},
   "outputs": [],
   "source": [
    "# Extracting attributes for purchase date - Day and Day of Week\n",
    "\n",
    "df_orders['order_purchase_day'] = df_orders['order_purchase_timestamp'].apply(lambda x: x.day)\n",
    "df_orders['order_purchase_dayofweek'] = df_orders['order_purchase_timestamp'].apply(lambda x: x.dayofweek)\n",
    "df_orders['order_purchase_dayofweek_name'] = df_orders['order_purchase_timestamp'].apply(lambda x: x.strftime('%a'))\n",
    "\n"
   ]
  },
  {
   "cell_type": "code",
   "execution_count": 98,
   "metadata": {},
   "outputs": [],
   "source": [
    "# Extracting attributes for purchase date - Hour and Time of the Day\n",
    "\n",
    "df_orders['order_purchase_hour'] = df_orders['order_purchase_timestamp'].apply(lambda x: x.hour)\n",
    "hours_bins = [-0.1, 6, 12, 18, 23]\n",
    "hours_labels = ['Dawn', 'Morning', 'Afternoon', 'Night']\n",
    "df_orders['order_purchase_time_day'] = pd.cut(df_orders['order_purchase_hour'], hours_bins, labels=hours_labels)\n",
    "\n"
   ]
  },
  {
   "cell_type": "code",
   "execution_count": 99,
   "metadata": {},
   "outputs": [
    {
     "data": {
      "text/html": [
       "<div>\n",
       "<style scoped>\n",
       "    .dataframe tbody tr th:only-of-type {\n",
       "        vertical-align: middle;\n",
       "    }\n",
       "\n",
       "    .dataframe tbody tr th {\n",
       "        vertical-align: top;\n",
       "    }\n",
       "\n",
       "    .dataframe thead th {\n",
       "        text-align: right;\n",
       "    }\n",
       "</style>\n",
       "<table border=\"1\" class=\"dataframe\">\n",
       "  <thead>\n",
       "    <tr style=\"text-align: right;\">\n",
       "      <th></th>\n",
       "      <th>order_id</th>\n",
       "      <th>customer_id</th>\n",
       "      <th>order_status</th>\n",
       "      <th>order_purchase_timestamp</th>\n",
       "      <th>order_approved_at</th>\n",
       "      <th>order_delivered_to_carrier_date</th>\n",
       "      <th>order_delivered_to_customer_date</th>\n",
       "      <th>order_estimated_delivery_date</th>\n",
       "      <th>order_purchase_year</th>\n",
       "      <th>order_purchase_month</th>\n",
       "      <th>order_purchase_month_name</th>\n",
       "      <th>order_purchase_year_month</th>\n",
       "      <th>order_purchase_date</th>\n",
       "      <th>order_purchase_day</th>\n",
       "      <th>order_purchase_dayofweek</th>\n",
       "      <th>order_purchase_dayofweek_name</th>\n",
       "      <th>order_purchase_hour</th>\n",
       "      <th>order_purchase_time_day</th>\n",
       "    </tr>\n",
       "  </thead>\n",
       "  <tbody>\n",
       "    <tr>\n",
       "      <td>0</td>\n",
       "      <td>e481f51cbd</td>\n",
       "      <td>9ef432eb62</td>\n",
       "      <td>delivered</td>\n",
       "      <td>2017-10-02 10:56:33</td>\n",
       "      <td>2017-10-02 11:07:15</td>\n",
       "      <td>2017-10-04 19:55:00</td>\n",
       "      <td>2017-10-10 21:25:13</td>\n",
       "      <td>2017-10-18</td>\n",
       "      <td>2017</td>\n",
       "      <td>10</td>\n",
       "      <td>Oct</td>\n",
       "      <td>201710</td>\n",
       "      <td>20171002</td>\n",
       "      <td>2</td>\n",
       "      <td>0</td>\n",
       "      <td>Mon</td>\n",
       "      <td>10</td>\n",
       "      <td>Morning</td>\n",
       "    </tr>\n",
       "    <tr>\n",
       "      <td>1</td>\n",
       "      <td>53cdb2fc8b</td>\n",
       "      <td>b0830fb474</td>\n",
       "      <td>delivered</td>\n",
       "      <td>2018-07-24 20:41:37</td>\n",
       "      <td>2018-07-26 03:24:27</td>\n",
       "      <td>2018-07-26 14:31:00</td>\n",
       "      <td>2018-08-07 15:27:45</td>\n",
       "      <td>2018-08-13</td>\n",
       "      <td>2018</td>\n",
       "      <td>7</td>\n",
       "      <td>Jul</td>\n",
       "      <td>201807</td>\n",
       "      <td>20180724</td>\n",
       "      <td>24</td>\n",
       "      <td>1</td>\n",
       "      <td>Tue</td>\n",
       "      <td>20</td>\n",
       "      <td>Night</td>\n",
       "    </tr>\n",
       "    <tr>\n",
       "      <td>2</td>\n",
       "      <td>47770eb910</td>\n",
       "      <td>41ce2a54c0</td>\n",
       "      <td>delivered</td>\n",
       "      <td>2018-08-08 08:38:49</td>\n",
       "      <td>2018-08-08 08:55:23</td>\n",
       "      <td>2018-08-08 13:50:00</td>\n",
       "      <td>2018-08-17 18:06:29</td>\n",
       "      <td>2018-09-04</td>\n",
       "      <td>2018</td>\n",
       "      <td>8</td>\n",
       "      <td>Aug</td>\n",
       "      <td>201808</td>\n",
       "      <td>20180808</td>\n",
       "      <td>8</td>\n",
       "      <td>2</td>\n",
       "      <td>Wed</td>\n",
       "      <td>8</td>\n",
       "      <td>Morning</td>\n",
       "    </tr>\n",
       "    <tr>\n",
       "      <td>3</td>\n",
       "      <td>949d5b44db</td>\n",
       "      <td>f88197465e</td>\n",
       "      <td>delivered</td>\n",
       "      <td>2017-11-18 19:28:06</td>\n",
       "      <td>2017-11-18 19:45:59</td>\n",
       "      <td>2017-11-22 13:39:59</td>\n",
       "      <td>2017-12-02 00:28:42</td>\n",
       "      <td>2017-12-15</td>\n",
       "      <td>2017</td>\n",
       "      <td>11</td>\n",
       "      <td>Nov</td>\n",
       "      <td>201711</td>\n",
       "      <td>20171118</td>\n",
       "      <td>18</td>\n",
       "      <td>5</td>\n",
       "      <td>Sat</td>\n",
       "      <td>19</td>\n",
       "      <td>Night</td>\n",
       "    </tr>\n",
       "    <tr>\n",
       "      <td>4</td>\n",
       "      <td>ad21c59c08</td>\n",
       "      <td>8ab97904e6</td>\n",
       "      <td>delivered</td>\n",
       "      <td>2018-02-13 21:18:39</td>\n",
       "      <td>2018-02-13 22:20:29</td>\n",
       "      <td>2018-02-14 19:46:34</td>\n",
       "      <td>2018-02-16 18:17:02</td>\n",
       "      <td>2018-02-26</td>\n",
       "      <td>2018</td>\n",
       "      <td>2</td>\n",
       "      <td>Feb</td>\n",
       "      <td>201802</td>\n",
       "      <td>20180213</td>\n",
       "      <td>13</td>\n",
       "      <td>1</td>\n",
       "      <td>Tue</td>\n",
       "      <td>21</td>\n",
       "      <td>Night</td>\n",
       "    </tr>\n",
       "  </tbody>\n",
       "</table>\n",
       "</div>"
      ],
      "text/plain": [
       "     order_id customer_id order_status order_purchase_timestamp  \\\n",
       "0  e481f51cbd  9ef432eb62    delivered      2017-10-02 10:56:33   \n",
       "1  53cdb2fc8b  b0830fb474    delivered      2018-07-24 20:41:37   \n",
       "2  47770eb910  41ce2a54c0    delivered      2018-08-08 08:38:49   \n",
       "3  949d5b44db  f88197465e    delivered      2017-11-18 19:28:06   \n",
       "4  ad21c59c08  8ab97904e6    delivered      2018-02-13 21:18:39   \n",
       "\n",
       "    order_approved_at order_delivered_to_carrier_date  \\\n",
       "0 2017-10-02 11:07:15             2017-10-04 19:55:00   \n",
       "1 2018-07-26 03:24:27             2018-07-26 14:31:00   \n",
       "2 2018-08-08 08:55:23             2018-08-08 13:50:00   \n",
       "3 2017-11-18 19:45:59             2017-11-22 13:39:59   \n",
       "4 2018-02-13 22:20:29             2018-02-14 19:46:34   \n",
       "\n",
       "  order_delivered_to_customer_date order_estimated_delivery_date  \\\n",
       "0              2017-10-10 21:25:13                    2017-10-18   \n",
       "1              2018-08-07 15:27:45                    2018-08-13   \n",
       "2              2018-08-17 18:06:29                    2018-09-04   \n",
       "3              2017-12-02 00:28:42                    2017-12-15   \n",
       "4              2018-02-16 18:17:02                    2018-02-26   \n",
       "\n",
       "   order_purchase_year  order_purchase_month order_purchase_month_name  \\\n",
       "0                 2017                    10                       Oct   \n",
       "1                 2018                     7                       Jul   \n",
       "2                 2018                     8                       Aug   \n",
       "3                 2017                    11                       Nov   \n",
       "4                 2018                     2                       Feb   \n",
       "\n",
       "  order_purchase_year_month order_purchase_date  order_purchase_day  \\\n",
       "0                    201710            20171002                   2   \n",
       "1                    201807            20180724                  24   \n",
       "2                    201808            20180808                   8   \n",
       "3                    201711            20171118                  18   \n",
       "4                    201802            20180213                  13   \n",
       "\n",
       "   order_purchase_dayofweek order_purchase_dayofweek_name  \\\n",
       "0                         0                           Mon   \n",
       "1                         1                           Tue   \n",
       "2                         2                           Wed   \n",
       "3                         5                           Sat   \n",
       "4                         1                           Tue   \n",
       "\n",
       "   order_purchase_hour order_purchase_time_day  \n",
       "0                   10                 Morning  \n",
       "1                   20                   Night  \n",
       "2                    8                 Morning  \n",
       "3                   19                   Night  \n",
       "4                   21                   Night  "
      ]
     },
     "execution_count": 99,
     "metadata": {},
     "output_type": "execute_result"
    }
   ],
   "source": [
    "# New DataFrame after transformations\n",
    "\n",
    "df_orders.head()"
   ]
  },
  {
   "cell_type": "markdown",
   "metadata": {},
   "source": [
    "#### Now we can analysed the data as per the year, month, week, day etc.."
   ]
  },
  {
   "cell_type": "code",
   "execution_count": 100,
   "metadata": {},
   "outputs": [
    {
     "data": {
      "image/png": "[encoded data removed]",
      "text/plain": [
       "<Figure size 1152x576 with 1 Axes>"
      ]
     },
     "metadata": {
      "needs_background": "light"
     },
     "output_type": "display_data"
    }
   ],
   "source": [
    "# Lineplot - Evolution of e-commerce orders along time \n",
    "\n",
    "fig = plt.figure(constrained_layout=True, figsize=(16, 8))\n",
    "ao = sns.lineplot(data=df_orders['order_purchase_year_month'].value_counts().sort_index(), linewidth=2, color = 'red')\n",
    "ao.set_xlabel('order_purchase_year_month',fontsize=15)\n",
    "ao.set_ylabel('Count',fontsize=15)\n",
    "plt.show()"
   ]
  },
  {
   "cell_type": "markdown",
   "metadata": {},
   "source": [
    "#### Maximum orders rate are in November 2017 "
   ]
  },
  {
   "cell_type": "code",
   "execution_count": 133,
   "metadata": {},
   "outputs": [
    {
     "data": {
      "image/png": "[encoded data removed]",
      "text/plain": [
       "<Figure size 432x288 with 1 Axes>"
      ]
     },
     "metadata": {
      "needs_background": "light"
     },
     "output_type": "display_data"
    }
   ],
   "source": [
    "a2 = sns.countplot(x=\"order_purchase_year\", data=df_orders, color = 'cyan')\n"
   ]
  },
  {
   "cell_type": "code",
   "execution_count": 102,
   "metadata": {},
   "outputs": [
    {
     "data": {
      "image/png": "[encoded data removed]",
      "text/plain": [
       "<Figure size 432x288 with 1 Axes>"
      ]
     },
     "metadata": {
      "needs_background": "light"
     },
     "output_type": "display_data"
    }
   ],
   "source": [
    "a3 = sns.countplot(x=\"order_purchase_month\", data=df_orders)"
   ]
  },
  {
   "cell_type": "code",
   "execution_count": 131,
   "metadata": {
    "scrolled": true
   },
   "outputs": [
    {
     "data": {
      "image/png": "[encoded data removed]",
      "text/plain": [
       "<Figure size 432x288 with 1 Axes>"
      ]
     },
     "metadata": {
      "needs_background": "light"
     },
     "output_type": "display_data"
    }
   ],
   "source": [
    "a4 = sns.countplot(x=\"order_purchase_time_day\", data=df_orders)\n"
   ]
  },
  {
   "cell_type": "code",
   "execution_count": 134,
   "metadata": {},
   "outputs": [
    {
     "data": {
      "image/png": "[encoded data removed]",
      "text/plain": [
       "<Figure size 432x288 with 1 Axes>"
      ]
     },
     "metadata": {
      "needs_background": "light"
     },
     "output_type": "display_data"
    }
   ],
   "source": [
    "a5 = sns.countplot(y=\"order_purchase_dayofweek_name\", data=df_orders )"
   ]
  },
  {
   "cell_type": "code",
   "execution_count": 105,
   "metadata": {},
   "outputs": [
    {
     "data": {
      "image/png": "[encoded data removed]",
      "text/plain": [
       "<Figure size 432x288 with 1 Axes>"
      ]
     },
     "metadata": {
      "needs_background": "light"
     },
     "output_type": "display_data"
    }
   ],
   "source": [
    "a6 = sns.countplot(x=\"order_purchase_hour\", data=df_orders )"
   ]
  },
  {
   "cell_type": "markdown",
   "metadata": {},
   "source": [
    "### Order-items"
   ]
  },
  {
   "cell_type": "code",
   "execution_count": 106,
   "metadata": {
    "scrolled": true
   },
   "outputs": [
    {
     "data": {
      "text/html": [
       "<div>\n",
       "<style scoped>\n",
       "    .dataframe tbody tr th:only-of-type {\n",
       "        vertical-align: middle;\n",
       "    }\n",
       "\n",
       "    .dataframe tbody tr th {\n",
       "        vertical-align: top;\n",
       "    }\n",
       "\n",
       "    .dataframe thead th {\n",
       "        text-align: right;\n",
       "    }\n",
       "</style>\n",
       "<table border=\"1\" class=\"dataframe\">\n",
       "  <thead>\n",
       "    <tr style=\"text-align: right;\">\n",
       "      <th></th>\n",
       "      <th>order_id</th>\n",
       "      <th>product_id</th>\n",
       "      <th>seller_id</th>\n",
       "      <th>price</th>\n",
       "    </tr>\n",
       "  </thead>\n",
       "  <tbody>\n",
       "    <tr>\n",
       "      <td>0</td>\n",
       "      <td>00010242fe</td>\n",
       "      <td>4244733e06</td>\n",
       "      <td>48436dade1</td>\n",
       "      <td>58</td>\n",
       "    </tr>\n",
       "    <tr>\n",
       "      <td>1</td>\n",
       "      <td>00018f77f2</td>\n",
       "      <td>e5f2d52b80</td>\n",
       "      <td>dd7ddc04e1</td>\n",
       "      <td>239</td>\n",
       "    </tr>\n",
       "    <tr>\n",
       "      <td>2</td>\n",
       "      <td>000229ec39</td>\n",
       "      <td>c777355d18</td>\n",
       "      <td>5b51032edd</td>\n",
       "      <td>199</td>\n",
       "    </tr>\n",
       "  </tbody>\n",
       "</table>\n",
       "</div>"
      ],
      "text/plain": [
       "     order_id  product_id   seller_id  price\n",
       "0  00010242fe  4244733e06  48436dade1     58\n",
       "1  00018f77f2  e5f2d52b80  dd7ddc04e1    239\n",
       "2  000229ec39  c777355d18  5b51032edd    199"
      ]
     },
     "execution_count": 106,
     "metadata": {},
     "output_type": "execute_result"
    }
   ],
   "source": [
    "df_order_items.head(3)"
   ]
  },
  {
   "cell_type": "code",
   "execution_count": 107,
   "metadata": {},
   "outputs": [
    {
     "data": {
      "text/plain": [
       "order_id      0\n",
       "product_id    0\n",
       "seller_id     0\n",
       "price         0\n",
       "dtype: int64"
      ]
     },
     "execution_count": 107,
     "metadata": {},
     "output_type": "execute_result"
    }
   ],
   "source": [
    "# Checking the null values\n",
    "\n",
    "df_order_items.isnull().sum()"
   ]
  },
  {
   "cell_type": "code",
   "execution_count": 108,
   "metadata": {},
   "outputs": [
    {
     "name": "stdout",
     "output_type": "stream",
     "text": [
      "Maximum price of the product is : 6735\n"
     ]
    }
   ],
   "source": [
    "print(\"Maximum price of the product is :\", max(df_order_items.price))"
   ]
  },
  {
   "cell_type": "markdown",
   "metadata": {},
   "source": [
    "### Payment-Analysis"
   ]
  },
  {
   "cell_type": "code",
   "execution_count": 109,
   "metadata": {},
   "outputs": [
    {
     "data": {
      "text/html": [
       "<div>\n",
       "<style scoped>\n",
       "    .dataframe tbody tr th:only-of-type {\n",
       "        vertical-align: middle;\n",
       "    }\n",
       "\n",
       "    .dataframe tbody tr th {\n",
       "        vertical-align: top;\n",
       "    }\n",
       "\n",
       "    .dataframe thead th {\n",
       "        text-align: right;\n",
       "    }\n",
       "</style>\n",
       "<table border=\"1\" class=\"dataframe\">\n",
       "  <thead>\n",
       "    <tr style=\"text-align: right;\">\n",
       "      <th></th>\n",
       "      <th>order_id</th>\n",
       "      <th>payment_type</th>\n",
       "      <th>payment_value</th>\n",
       "    </tr>\n",
       "  </thead>\n",
       "  <tbody>\n",
       "    <tr>\n",
       "      <td>0</td>\n",
       "      <td>b81ef226f3</td>\n",
       "      <td>credit_card</td>\n",
       "      <td>99</td>\n",
       "    </tr>\n",
       "    <tr>\n",
       "      <td>1</td>\n",
       "      <td>a9810da829</td>\n",
       "      <td>credit_card</td>\n",
       "      <td>24</td>\n",
       "    </tr>\n",
       "    <tr>\n",
       "      <td>2</td>\n",
       "      <td>25e8ea4e93</td>\n",
       "      <td>credit_card</td>\n",
       "      <td>65</td>\n",
       "    </tr>\n",
       "  </tbody>\n",
       "</table>\n",
       "</div>"
      ],
      "text/plain": [
       "     order_id payment_type  payment_value\n",
       "0  b81ef226f3  credit_card             99\n",
       "1  a9810da829  credit_card             24\n",
       "2  25e8ea4e93  credit_card             65"
      ]
     },
     "execution_count": 109,
     "metadata": {},
     "output_type": "execute_result"
    }
   ],
   "source": [
    "df_payments.head(3)"
   ]
  },
  {
   "cell_type": "code",
   "execution_count": 110,
   "metadata": {},
   "outputs": [
    {
     "data": {
      "text/plain": [
       "order_id         0\n",
       "payment_type     0\n",
       "payment_value    0\n",
       "dtype: int64"
      ]
     },
     "execution_count": 110,
     "metadata": {},
     "output_type": "execute_result"
    }
   ],
   "source": [
    "df_payments.isnull().sum()"
   ]
  },
  {
   "cell_type": "code",
   "execution_count": 111,
   "metadata": {},
   "outputs": [],
   "source": [
    "order_pay=pd.merge(df_orders,df_payments,how=\"left\",on=['order_id','order_id'])"
   ]
  },
  {
   "cell_type": "code",
   "execution_count": 112,
   "metadata": {},
   "outputs": [
    {
     "data": {
      "text/plain": [
       "(103887, 20)"
      ]
     },
     "execution_count": 112,
     "metadata": {},
     "output_type": "execute_result"
    }
   ],
   "source": [
    "order_pay.shape"
   ]
  },
  {
   "cell_type": "code",
   "execution_count": 113,
   "metadata": {},
   "outputs": [
    {
     "data": {
      "text/html": [
       "<div>\n",
       "<style scoped>\n",
       "    .dataframe tbody tr th:only-of-type {\n",
       "        vertical-align: middle;\n",
       "    }\n",
       "\n",
       "    .dataframe tbody tr th {\n",
       "        vertical-align: top;\n",
       "    }\n",
       "\n",
       "    .dataframe thead th {\n",
       "        text-align: right;\n",
       "    }\n",
       "</style>\n",
       "<table border=\"1\" class=\"dataframe\">\n",
       "  <thead>\n",
       "    <tr style=\"text-align: right;\">\n",
       "      <th></th>\n",
       "      <th>order_id</th>\n",
       "      <th>customer_id</th>\n",
       "      <th>order_status</th>\n",
       "      <th>order_purchase_timestamp</th>\n",
       "      <th>order_approved_at</th>\n",
       "      <th>order_delivered_to_carrier_date</th>\n",
       "      <th>order_delivered_to_customer_date</th>\n",
       "      <th>order_estimated_delivery_date</th>\n",
       "      <th>order_purchase_year</th>\n",
       "      <th>order_purchase_month</th>\n",
       "      <th>order_purchase_month_name</th>\n",
       "      <th>order_purchase_year_month</th>\n",
       "      <th>order_purchase_date</th>\n",
       "      <th>order_purchase_day</th>\n",
       "      <th>order_purchase_dayofweek</th>\n",
       "      <th>order_purchase_dayofweek_name</th>\n",
       "      <th>order_purchase_hour</th>\n",
       "      <th>order_purchase_time_day</th>\n",
       "      <th>payment_type</th>\n",
       "      <th>payment_value</th>\n",
       "    </tr>\n",
       "  </thead>\n",
       "  <tbody>\n",
       "    <tr>\n",
       "      <td>0</td>\n",
       "      <td>e481f51cbd</td>\n",
       "      <td>9ef432eb62</td>\n",
       "      <td>delivered</td>\n",
       "      <td>2017-10-02 10:56:33</td>\n",
       "      <td>2017-10-02 11:07:15</td>\n",
       "      <td>2017-10-04 19:55:00</td>\n",
       "      <td>2017-10-10 21:25:13</td>\n",
       "      <td>2017-10-18</td>\n",
       "      <td>2017</td>\n",
       "      <td>10</td>\n",
       "      <td>Oct</td>\n",
       "      <td>201710</td>\n",
       "      <td>20171002</td>\n",
       "      <td>2</td>\n",
       "      <td>0</td>\n",
       "      <td>Mon</td>\n",
       "      <td>10</td>\n",
       "      <td>Morning</td>\n",
       "      <td>credit_card</td>\n",
       "      <td>18.0</td>\n",
       "    </tr>\n",
       "    <tr>\n",
       "      <td>1</td>\n",
       "      <td>e481f51cbd</td>\n",
       "      <td>9ef432eb62</td>\n",
       "      <td>delivered</td>\n",
       "      <td>2017-10-02 10:56:33</td>\n",
       "      <td>2017-10-02 11:07:15</td>\n",
       "      <td>2017-10-04 19:55:00</td>\n",
       "      <td>2017-10-10 21:25:13</td>\n",
       "      <td>2017-10-18</td>\n",
       "      <td>2017</td>\n",
       "      <td>10</td>\n",
       "      <td>Oct</td>\n",
       "      <td>201710</td>\n",
       "      <td>20171002</td>\n",
       "      <td>2</td>\n",
       "      <td>0</td>\n",
       "      <td>Mon</td>\n",
       "      <td>10</td>\n",
       "      <td>Morning</td>\n",
       "      <td>voucher</td>\n",
       "      <td>2.0</td>\n",
       "    </tr>\n",
       "    <tr>\n",
       "      <td>2</td>\n",
       "      <td>e481f51cbd</td>\n",
       "      <td>9ef432eb62</td>\n",
       "      <td>delivered</td>\n",
       "      <td>2017-10-02 10:56:33</td>\n",
       "      <td>2017-10-02 11:07:15</td>\n",
       "      <td>2017-10-04 19:55:00</td>\n",
       "      <td>2017-10-10 21:25:13</td>\n",
       "      <td>2017-10-18</td>\n",
       "      <td>2017</td>\n",
       "      <td>10</td>\n",
       "      <td>Oct</td>\n",
       "      <td>201710</td>\n",
       "      <td>20171002</td>\n",
       "      <td>2</td>\n",
       "      <td>0</td>\n",
       "      <td>Mon</td>\n",
       "      <td>10</td>\n",
       "      <td>Morning</td>\n",
       "      <td>voucher</td>\n",
       "      <td>18.0</td>\n",
       "    </tr>\n",
       "  </tbody>\n",
       "</table>\n",
       "</div>"
      ],
      "text/plain": [
       "     order_id customer_id order_status order_purchase_timestamp  \\\n",
       "0  e481f51cbd  9ef432eb62    delivered      2017-10-02 10:56:33   \n",
       "1  e481f51cbd  9ef432eb62    delivered      2017-10-02 10:56:33   \n",
       "2  e481f51cbd  9ef432eb62    delivered      2017-10-02 10:56:33   \n",
       "\n",
       "    order_approved_at order_delivered_to_carrier_date  \\\n",
       "0 2017-10-02 11:07:15             2017-10-04 19:55:00   \n",
       "1 2017-10-02 11:07:15             2017-10-04 19:55:00   \n",
       "2 2017-10-02 11:07:15             2017-10-04 19:55:00   \n",
       "\n",
       "  order_delivered_to_customer_date order_estimated_delivery_date  \\\n",
       "0              2017-10-10 21:25:13                    2017-10-18   \n",
       "1              2017-10-10 21:25:13                    2017-10-18   \n",
       "2              2017-10-10 21:25:13                    2017-10-18   \n",
       "\n",
       "   order_purchase_year  order_purchase_month order_purchase_month_name  \\\n",
       "0                 2017                    10                       Oct   \n",
       "1                 2017                    10                       Oct   \n",
       "2                 2017                    10                       Oct   \n",
       "\n",
       "  order_purchase_year_month order_purchase_date  order_purchase_day  \\\n",
       "0                    201710            20171002                   2   \n",
       "1                    201710            20171002                   2   \n",
       "2                    201710            20171002                   2   \n",
       "\n",
       "   order_purchase_dayofweek order_purchase_dayofweek_name  \\\n",
       "0                         0                           Mon   \n",
       "1                         0                           Mon   \n",
       "2                         0                           Mon   \n",
       "\n",
       "   order_purchase_hour order_purchase_time_day payment_type  payment_value  \n",
       "0                   10                 Morning  credit_card           18.0  \n",
       "1                   10                 Morning      voucher            2.0  \n",
       "2                   10                 Morning      voucher           18.0  "
      ]
     },
     "execution_count": 113,
     "metadata": {},
     "output_type": "execute_result"
    }
   ],
   "source": [
    "order_pay.head(3)"
   ]
  },
  {
   "cell_type": "code",
   "execution_count": 114,
   "metadata": {},
   "outputs": [],
   "source": [
    "pay_type=df_payments.groupby('payment_type').aggregate({'order_id':'count'}).rename(columns={'order_id':'count'}).sort_values(by='count',ascending=False).reset_index()"
   ]
  },
  {
   "cell_type": "code",
   "execution_count": 115,
   "metadata": {},
   "outputs": [
    {
     "data": {
      "image/png": "[encoded data removed]",
      "text/plain": [
       "<Figure size 576x576 with 1 Axes>"
      ]
     },
     "metadata": {
      "needs_background": "light"
     },
     "output_type": "display_data"
    }
   ],
   "source": [
    "plt.figure(figsize=(8,8))\n",
    "a=sns.barplot(x='payment_type',y='count',data=pay_type)\n",
    "plt.title(\"Mode of Payment\")\n",
    "plt.xlabel('Payment Type')\n",
    "plt.ylabel('Number of instances')\n",
    "plt.show()"
   ]
  },
  {
   "cell_type": "markdown",
   "metadata": {},
   "source": [
    "#### A large number of buyers use credit card their prefered mode of payment"
   ]
  },
  {
   "cell_type": "markdown",
   "metadata": {},
   "source": [
    "### Product Analysis"
   ]
  },
  {
   "cell_type": "code",
   "execution_count": 116,
   "metadata": {},
   "outputs": [
    {
     "data": {
      "text/html": [
       "<div>\n",
       "<style scoped>\n",
       "    .dataframe tbody tr th:only-of-type {\n",
       "        vertical-align: middle;\n",
       "    }\n",
       "\n",
       "    .dataframe tbody tr th {\n",
       "        vertical-align: top;\n",
       "    }\n",
       "\n",
       "    .dataframe thead th {\n",
       "        text-align: right;\n",
       "    }\n",
       "</style>\n",
       "<table border=\"1\" class=\"dataframe\">\n",
       "  <thead>\n",
       "    <tr style=\"text-align: right;\">\n",
       "      <th></th>\n",
       "      <th>product_id</th>\n",
       "      <th>product_photos_count</th>\n",
       "      <th>product_length_cm</th>\n",
       "      <th>product_height_cm</th>\n",
       "      <th>product_width_cm</th>\n",
       "      <th>product_category_name</th>\n",
       "      <th>product_weight_kg</th>\n",
       "    </tr>\n",
       "  </thead>\n",
       "  <tbody>\n",
       "    <tr>\n",
       "      <td>0</td>\n",
       "      <td>1e9e8ef04d</td>\n",
       "      <td>1.0</td>\n",
       "      <td>16.0</td>\n",
       "      <td>10.0</td>\n",
       "      <td>14.0</td>\n",
       "      <td>perfumery</td>\n",
       "      <td>0.225</td>\n",
       "    </tr>\n",
       "    <tr>\n",
       "      <td>1</td>\n",
       "      <td>3aa071139c</td>\n",
       "      <td>1.0</td>\n",
       "      <td>30.0</td>\n",
       "      <td>18.0</td>\n",
       "      <td>20.0</td>\n",
       "      <td>art</td>\n",
       "      <td>1.000</td>\n",
       "    </tr>\n",
       "    <tr>\n",
       "      <td>2</td>\n",
       "      <td>96bd76ec88</td>\n",
       "      <td>1.0</td>\n",
       "      <td>18.0</td>\n",
       "      <td>9.0</td>\n",
       "      <td>15.0</td>\n",
       "      <td>sports_leisure</td>\n",
       "      <td>0.154</td>\n",
       "    </tr>\n",
       "  </tbody>\n",
       "</table>\n",
       "</div>"
      ],
      "text/plain": [
       "   product_id  product_photos_count  product_length_cm  product_height_cm  \\\n",
       "0  1e9e8ef04d                   1.0               16.0               10.0   \n",
       "1  3aa071139c                   1.0               30.0               18.0   \n",
       "2  96bd76ec88                   1.0               18.0                9.0   \n",
       "\n",
       "   product_width_cm product_category_name  product_weight_kg  \n",
       "0              14.0             perfumery              0.225  \n",
       "1              20.0                   art              1.000  \n",
       "2              15.0        sports_leisure              0.154  "
      ]
     },
     "execution_count": 116,
     "metadata": {},
     "output_type": "execute_result"
    }
   ],
   "source": [
    "df_products.head(3)"
   ]
  },
  {
   "cell_type": "code",
   "execution_count": 117,
   "metadata": {},
   "outputs": [
    {
     "data": {
      "text/plain": [
       "product_photos_count     610\n",
       "product_weight_kg          2\n",
       "product_width_cm           2\n",
       "product_height_cm          2\n",
       "product_length_cm          2\n",
       "product_category_name      0\n",
       "product_id                 0\n",
       "dtype: int64"
      ]
     },
     "execution_count": 117,
     "metadata": {},
     "output_type": "execute_result"
    }
   ],
   "source": [
    "df_products.isnull().sum().sort_values(ascending = False)"
   ]
  },
  {
   "cell_type": "code",
   "execution_count": 118,
   "metadata": {},
   "outputs": [
    {
     "name": "stdout",
     "output_type": "stream",
     "text": [
      "['perfumery' 'art' 'sports_leisure' 'baby' 'housewares'\n",
      " 'musical_instruments' 'cool_stuff' 'furniture_decor' 'home_appliances'\n",
      " 'toys' 'bed_bath_table' 'construction_tools_safety'\n",
      " 'computers_accessories' 'health_beauty' 'luggage_accessories'\n",
      " 'garden_tools' 'office_furniture' 'auto' 'electronics' 'fashion_shoes'\n",
      " 'telephony' 'stationery' 'fashion_bags_accessories' 'computers'\n",
      " 'home_construction' 'watches_gifts' 'construction_tools_construction'\n",
      " 'pet_shop' 'small_appliances' 'agro_industry_and_commerce' 'other'\n",
      " 'furniture_living_room' 'signaling_and_security' 'air_conditioning'\n",
      " 'consoles_games' 'books_general_interest' 'costruction_tools_tools'\n",
      " 'fashion_underwear_beach' 'fashion_male_clothing'\n",
      " 'kitchen_dining_laundry_garden_furniture'\n",
      " 'industry_commerce_and_business' 'fixed_telephony'\n",
      " 'construction_tools_lights' 'books_technical' 'home_appliances_2'\n",
      " 'party_supplies' 'drinks' 'market_place' 'la_cuisine'\n",
      " 'costruction_tools_garden' 'fashio_female_clothing' 'home_confort'\n",
      " 'audio' 'food_drink' 'music' 'food' 'tablets_printing_image'\n",
      " 'books_imported' 'small_appliances_home_oven_and_coffee' 'fashion_sport'\n",
      " 'christmas_supplies' 'fashion_childrens_clothes' 'dvds_blu_ray'\n",
      " 'arts_and_craftmanship' 'furniture_bedroom' 'cine_photo'\n",
      " 'diapers_and_hygiene' 'flowers' 'home_comfort_2' 'security_and_services'\n",
      " 'furniture_mattress_and_upholstery' 'cds_dvds_musicals']\n"
     ]
    }
   ],
   "source": [
    "print(df_products['product_category_name'].unique())"
   ]
  },
  {
   "cell_type": "code",
   "execution_count": 119,
   "metadata": {},
   "outputs": [
    {
     "name": "stdout",
     "output_type": "stream",
     "text": [
      "The total nos of products are : 32951\n"
     ]
    }
   ],
   "source": [
    "print(\"The total nos of products are :\", df_products['product_category_name'].count())"
   ]
  },
  {
   "cell_type": "code",
   "execution_count": 120,
   "metadata": {},
   "outputs": [
    {
     "data": {
      "image/png": "[encoded data removed]",
      "text/plain": [
       "<Figure size 432x288 with 1 Axes>"
      ]
     },
     "metadata": {
      "needs_background": "light"
     },
     "output_type": "display_data"
    }
   ],
   "source": [
    "### Visualising top 10 most bought product categories:\n",
    "\n",
    "sns.barplot(x='product_category_name',y='product_photos_count',data=df_products[1:10])\n",
    "plt.xlabel(\"Product Category\")\n",
    "plt.ylabel(\"Total Number of orders\")\n",
    "plt.title(\"Most bought product categories\")\n",
    "plt.xticks(rotation='vertical')\n",
    "plt.show()"
   ]
  },
  {
   "cell_type": "markdown",
   "metadata": {},
   "source": [
    "#### The most selling products are housewares & cool_stuf"
   ]
  },
  {
   "cell_type": "markdown",
   "metadata": {},
   "source": [
    "### Seller Analysis"
   ]
  },
  {
   "cell_type": "code",
   "execution_count": 121,
   "metadata": {},
   "outputs": [
    {
     "data": {
      "text/html": [
       "<div>\n",
       "<style scoped>\n",
       "    .dataframe tbody tr th:only-of-type {\n",
       "        vertical-align: middle;\n",
       "    }\n",
       "\n",
       "    .dataframe tbody tr th {\n",
       "        vertical-align: top;\n",
       "    }\n",
       "\n",
       "    .dataframe thead th {\n",
       "        text-align: right;\n",
       "    }\n",
       "</style>\n",
       "<table border=\"1\" class=\"dataframe\">\n",
       "  <thead>\n",
       "    <tr style=\"text-align: right;\">\n",
       "      <th></th>\n",
       "      <th>seller_id</th>\n",
       "      <th>seller_state</th>\n",
       "    </tr>\n",
       "  </thead>\n",
       "  <tbody>\n",
       "    <tr>\n",
       "      <td>0</td>\n",
       "      <td>3442f8959a</td>\n",
       "      <td>SP</td>\n",
       "    </tr>\n",
       "    <tr>\n",
       "      <td>1</td>\n",
       "      <td>d1b65fc7de</td>\n",
       "      <td>SP</td>\n",
       "    </tr>\n",
       "    <tr>\n",
       "      <td>2</td>\n",
       "      <td>ce3ad9de96</td>\n",
       "      <td>RJ</td>\n",
       "    </tr>\n",
       "  </tbody>\n",
       "</table>\n",
       "</div>"
      ],
      "text/plain": [
       "    seller_id seller_state\n",
       "0  3442f8959a           SP\n",
       "1  d1b65fc7de           SP\n",
       "2  ce3ad9de96           RJ"
      ]
     },
     "execution_count": 121,
     "metadata": {},
     "output_type": "execute_result"
    }
   ],
   "source": [
    "df_sellers.head(3)"
   ]
  },
  {
   "cell_type": "code",
   "execution_count": 122,
   "metadata": {
    "scrolled": true
   },
   "outputs": [
    {
     "data": {
      "image/png": "[encoded data removed]",
      "text/plain": [
       "<Figure size 1296x432 with 1 Axes>"
      ]
     },
     "metadata": {
      "needs_background": "light"
     },
     "output_type": "display_data"
    }
   ],
   "source": [
    "plt.figure(figsize=(18,6))\n",
    "seller=sns.barplot(df_sellers['seller_id'].value_counts()[:20].index,df_products['product_category_name'].value_counts()[:20].values,palette='Set2')\n",
    "seller.set_title('Top 20 sellers')\n",
    "seller.set_xticklabels(seller.get_xticklabels(),rotation=90)\n",
    "plt.show()"
   ]
  },
  {
   "cell_type": "code",
   "execution_count": 136,
   "metadata": {},
   "outputs": [
    {
     "data": {
      "text/plain": [
       "a06c8ff043    1\n",
       "2f3d8b4c9e    1\n",
       "41b86b552e    1\n",
       "461ff5303b    1\n",
       "1f1bb1f085    1\n",
       "e5def42655    1\n",
       "ecccfa2bb9    1\n",
       "94e93ce877    1\n",
       "4b0fdb5265    1\n",
       "cca3071e3e    1\n",
       "9b15857526    1\n",
       "15cd6eefe5    1\n",
       "e6a69c4a27    1\n",
       "92eb0f42c2    1\n",
       "8a8835a43b    1\n",
       "004c9cd9d8    1\n",
       "93b9a99027    1\n",
       "41c2bad722    1\n",
       "a6fe7de3d1    1\n",
       "7ab0dd5487    1\n",
       "Name: seller_id, dtype: int64"
      ]
     },
     "execution_count": 136,
     "metadata": {},
     "output_type": "execute_result"
    }
   ],
   "source": [
    "df_sellers['seller_id'].value_counts()[:20]"
   ]
  },
  {
   "cell_type": "markdown",
   "metadata": {},
   "source": [
    "#### This are the Top 20 sellers of the products"
   ]
  },
  {
   "cell_type": "code",
   "execution_count": 123,
   "metadata": {},
   "outputs": [
    {
     "data": {
      "text/html": [
       "<div>\n",
       "<style scoped>\n",
       "    .dataframe tbody tr th:only-of-type {\n",
       "        vertical-align: middle;\n",
       "    }\n",
       "\n",
       "    .dataframe tbody tr th {\n",
       "        vertical-align: top;\n",
       "    }\n",
       "\n",
       "    .dataframe thead th {\n",
       "        text-align: right;\n",
       "    }\n",
       "</style>\n",
       "<table border=\"1\" class=\"dataframe\">\n",
       "  <thead>\n",
       "    <tr style=\"text-align: right;\">\n",
       "      <th></th>\n",
       "      <th>review_id</th>\n",
       "      <th>order_id</th>\n",
       "      <th>review_score</th>\n",
       "      <th>survey_sent_date</th>\n",
       "      <th>survey_answer_timestamp</th>\n",
       "    </tr>\n",
       "  </thead>\n",
       "  <tbody>\n",
       "    <tr>\n",
       "      <td>0</td>\n",
       "      <td>7bc2406110b926393aa56f80a40eba40</td>\n",
       "      <td>73fc7af871</td>\n",
       "      <td>4</td>\n",
       "      <td>2018-01-18 00:00:00</td>\n",
       "      <td>2018-01-18 21:46:59</td>\n",
       "    </tr>\n",
       "    <tr>\n",
       "      <td>1</td>\n",
       "      <td>80e641a11e56f04c1ad469d5645fdfde</td>\n",
       "      <td>a548910a1c</td>\n",
       "      <td>5</td>\n",
       "      <td>2018-03-10 00:00:00</td>\n",
       "      <td>2018-03-11 03:05:13</td>\n",
       "    </tr>\n",
       "    <tr>\n",
       "      <td>2</td>\n",
       "      <td>228ce5500dc1d8e020d8d1322874b6f0</td>\n",
       "      <td>f9e4b658b2</td>\n",
       "      <td>5</td>\n",
       "      <td>2018-02-17 00:00:00</td>\n",
       "      <td>2018-02-18 14:36:24</td>\n",
       "    </tr>\n",
       "  </tbody>\n",
       "</table>\n",
       "</div>"
      ],
      "text/plain": [
       "                          review_id    order_id  review_score  \\\n",
       "0  7bc2406110b926393aa56f80a40eba40  73fc7af871             4   \n",
       "1  80e641a11e56f04c1ad469d5645fdfde  a548910a1c             5   \n",
       "2  228ce5500dc1d8e020d8d1322874b6f0  f9e4b658b2             5   \n",
       "\n",
       "      survey_sent_date survey_answer_timestamp  \n",
       "0  2018-01-18 00:00:00     2018-01-18 21:46:59  \n",
       "1  2018-03-10 00:00:00     2018-03-11 03:05:13  \n",
       "2  2018-02-17 00:00:00     2018-02-18 14:36:24  "
      ]
     },
     "execution_count": 123,
     "metadata": {},
     "output_type": "execute_result"
    }
   ],
   "source": [
    "df_user_feedback.head(3)"
   ]
  },
  {
   "cell_type": "code",
   "execution_count": 125,
   "metadata": {},
   "outputs": [
    {
     "data": {
      "image/png": "[encoded data removed]",
      "text/plain": [
       "<Figure size 432x288 with 1 Axes>"
      ]
     },
     "metadata": {
      "needs_background": "light"
     },
     "output_type": "display_data"
    }
   ],
   "source": [
    "a7 = sns.countplot(y=\"review_score\", data=df_user_feedback )"
   ]
  },
  {
   "cell_type": "markdown",
   "metadata": {},
   "source": [
    "#### Summary OR Conclusion\n",
    "\n",
    "1. There are total 27 states are present in which the services are available & SP state has a large volume of Customers.\n",
    "2. Total no.of orders done are 99441\n",
    "3. Mostly orders are deliverd to the customers.\n",
    "4. Based on timestamp we have distinguish data as per the year, month, week, day etc.\n",
    "5. Maximum orders rate are in November 2017 \n",
    "6. Trend of orders increase in year 2018\n",
    "7. In Afternoon Customers are placing more no of orders.\n",
    "8. Mostly on weekdays customers preferd to book the orders\n",
    "9. Creadit Card is more used while ordering\n",
    "10.The most selling products are housewares & cool_stuf\n",
    "11. Top 20 sellers are defined\n",
    "12. Most of the customers have given Review score 5  "
   ]
  },
  {
   "cell_type": "code",
   "execution_count": null,
   "metadata": {},
   "outputs": [],
   "source": []
  }
 ],
 "metadata": {
  "kernelspec": {
   "display_name": "Python 3",
   "language": "python",
   "name": "python3"
  },
  "language_info": {
   "codemirror_mode": {
    "name": "ipython",
    "version": 3
   },
   "file_extension": ".py",
   "mimetype": "text/x-python",
   "name": "python",
   "nbconvert_exporter": "python",
   "pygments_lexer": "ipython3",
   "version": "3.7.4"
  }
 },
 "nbformat": 4,
 "nbformat_minor": 2
}
